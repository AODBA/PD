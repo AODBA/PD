{
 "cells": [
  {
   "cell_type": "markdown",
   "metadata": {},
   "source": [
    "### What is Pandas and why we should learn Pandas ? \n",
    "\n",
    "  So Pandas comes from **Python Data Analysis Library**, and is maybe the most known python library for data analysis as it the name implies. \n",
    "\n",
    "### Why should we learn Pandas ?\n",
    "\n",
    " **Pandas is great for working with different types of data, such as:** \n",
    "- Tabular data with heterogeneously-typed columns, as in an SQL table or Excel spreadsheet.\n",
    "- Ordered and unordered (not necessarily fixed-frequency) time series data.\n",
    "- Arbitrary matrix data (homogeneously typed or heterogeneous) with row and column labels.\n",
    "- Any other form of observational / statistical data sets. The data actually need not be labeled at all to be placed into a pandas data structure.\n",
    "\n",
    "  **Here are just a few of the things that pandas does well:**\n",
    "- Easy handling of missing data (represented as NaN) in floating point as well as non-floating point data\n",
    "- Size mutability: columns can be inserted and deleted from DataFrame and higher dimensional objects\n",
    "- Automatic and explicit data alignment: objects can be explicitly aligned to a set of labels, or the user can simply ignore the labels and let Series, DataFrame, etc. automatically align the data for you in computations\n",
    "- Powerful, flexible group by functionality to perform split-apply-combine operations on data sets, for both aggregating and transforming data\n",
    "- Make it easy to convert ragged, differently-indexed data in other Python and NumPy data structures into DataFrame objects\n",
    "- Intelligent label-based slicing, fancy indexing, and subsetting of large data set\n",
    "- Intuitive merging and joining data sets\n",
    "- Flexible reshaping and pivoting of data sets\n",
    "- Hierarchical labeling of axes (possible to have multiple labels per tick)\n",
    "- Robust IO tools for loading data from flat files (CSV and delimited), Excel files, databases, and saving / loading data from the ultrafast HDF5 format\n",
    "- Time series-specific functionality: date range generation and frequency conversion, moving window statistics, date shifting and lagging.\n",
    "\n",
    "\n",
    "## To install Pandas libraries we will use pip installer. "
   ]
  },
  {
   "cell_type": "code",
   "execution_count": 9,
   "metadata": {},
   "outputs": [
    {
     "name": "stdout",
     "output_type": "stream",
     "text": [
      "Requirement already satisfied: pandas in c:\\users\\adriano\\appdata\\local\\programs\\python\\python37-32\\lib\\site-packages (1.0.3)\n",
      "Requirement already satisfied: numpy>=1.13.3 in c:\\users\\adriano\\appdata\\local\\programs\\python\\python37-32\\lib\\site-packages (from pandas) (1.18.2)\n",
      "Requirement already satisfied: python-dateutil>=2.6.1 in c:\\users\\adriano\\appdata\\local\\programs\\python\\python37-32\\lib\\site-packages (from pandas) (2.8.1)\n",
      "Requirement already satisfied: pytz>=2017.2 in c:\\users\\adriano\\appdata\\local\\programs\\python\\python37-32\\lib\\site-packages (from pandas) (2019.3)\n",
      "Requirement already satisfied: six>=1.5 in c:\\users\\adriano\\appdata\\roaming\\python\\python37\\site-packages (from python-dateutil>=2.6.1->pandas) (1.14.0)\n",
      "Note: you may need to restart the kernel to use updated packages.\n"
     ]
    }
   ],
   "source": [
    "pip install pandas"
   ]
  },
  {
   "cell_type": "markdown",
   "metadata": {},
   "source": [
    "\n",
    "### Let"
   ]
  }
 ],
 "metadata": {
  "kernelspec": {
   "display_name": "Python 3",
   "language": "python",
   "name": "python3"
  },
  "language_info": {
   "codemirror_mode": {
    "name": "ipython",
    "version": 3
   },
   "file_extension": ".py",
   "mimetype": "text/x-python",
   "name": "python",
   "nbconvert_exporter": "python",
   "pygments_lexer": "ipython3",
   "version": "3.7.7"
  }
 },
 "nbformat": 4,
 "nbformat_minor": 4
}
